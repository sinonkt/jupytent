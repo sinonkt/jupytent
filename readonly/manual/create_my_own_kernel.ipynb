{
 "cells": [
  {
   "cell_type": "code",
   "execution_count": 6,
   "metadata": {},
   "outputs": [
    {
     "name": "stdout",
     "output_type": "stream",
     "text": [
      "# conda environments:\n",
      "#\n",
      "base                  *  /opt/conda\n",
      "\n",
      "\n",
      "Note: you may need to restart the kernel to use updated packages.\n"
     ]
    }
   ],
   "source": [
    "conda env list"
   ]
  },
  {
   "cell_type": "code",
   "execution_count": 7,
   "metadata": {},
   "outputs": [
    {
     "name": "stdout",
     "output_type": "stream",
     "text": [
      "Collecting package metadata (current_repodata.json): done\n",
      "Solving environment: done\n",
      "\n",
      "## Package Plan ##\n",
      "\n",
      "  environment location: /home/oat/envs/test\n",
      "\n",
      "  added / updated specs:\n",
      "    - python=3.8\n",
      "\n",
      "\n",
      "The following NEW packages will be INSTALLED:\n",
      "\n",
      "  _libgcc_mutex      conda-forge/linux-64::_libgcc_mutex-0.1-conda_forge\n",
      "  _openmp_mutex      conda-forge/linux-64::_openmp_mutex-4.5-1_gnu\n",
      "  ca-certificates    conda-forge/linux-64::ca-certificates-2020.6.20-hecda079_0\n",
      "  certifi            conda-forge/linux-64::certifi-2020.6.20-py38h32f6830_0\n",
      "  ld_impl_linux-64   conda-forge/linux-64::ld_impl_linux-64-2.35-h769bd43_9\n",
      "  libffi             conda-forge/linux-64::libffi-3.2.1-he1b5a44_1007\n",
      "  libgcc-ng          conda-forge/linux-64::libgcc-ng-9.3.0-h5dbcf3e_17\n",
      "  libgomp            conda-forge/linux-64::libgomp-9.3.0-h5dbcf3e_17\n",
      "  libstdcxx-ng       conda-forge/linux-64::libstdcxx-ng-9.3.0-h2ae2ef3_17\n",
      "  ncurses            conda-forge/linux-64::ncurses-6.2-he1b5a44_1\n",
      "  openssl            conda-forge/linux-64::openssl-1.1.1h-h516909a_0\n",
      "  pip                conda-forge/noarch::pip-20.2.3-py_0\n",
      "  python             conda-forge/linux-64::python-3.8.6-h852b56e_0_cpython\n",
      "  python_abi         conda-forge/linux-64::python_abi-3.8-1_cp38\n",
      "  readline           conda-forge/linux-64::readline-8.0-he28a2e2_2\n",
      "  setuptools         conda-forge/linux-64::setuptools-49.6.0-py38h32f6830_1\n",
      "  sqlite             conda-forge/linux-64::sqlite-3.33.0-h4cf870e_1\n",
      "  tk                 conda-forge/linux-64::tk-8.6.10-hed695b0_1\n",
      "  wheel              conda-forge/noarch::wheel-0.35.1-pyh9f0ad1d_0\n",
      "  xz                 conda-forge/linux-64::xz-5.2.5-h516909a_1\n",
      "  zlib               conda-forge/linux-64::zlib-1.2.11-h516909a_1009\n",
      "\n",
      "\n",
      "Preparing transaction: done\n",
      "Verifying transaction: done\n",
      "Executing transaction: done\n",
      "#\n",
      "# To activate this environment, use\n",
      "#\n",
      "#     $ conda activate test\n",
      "#\n",
      "# To deactivate an active environment, use\n",
      "#\n",
      "#     $ conda deactivate\n",
      "\n",
      "\n",
      "Note: you may need to restart the kernel to use updated packages.\n"
     ]
    }
   ],
   "source": [
    "conda create -n test -y python=3.8"
   ]
  },
  {
   "cell_type": "code",
   "execution_count": 8,
   "metadata": {},
   "outputs": [
    {
     "name": "stdout",
     "output_type": "stream",
     "text": [
      "\n",
      "CommandNotFoundError: Your shell has not been properly configured to use 'conda activate'.\n",
      "To initialize your shell, run\n",
      "\n",
      "    $ conda init <SHELL_NAME>\n",
      "\n",
      "Currently supported shells are:\n",
      "  - bash\n",
      "  - fish\n",
      "  - tcsh\n",
      "  - xonsh\n",
      "  - zsh\n",
      "  - powershell\n",
      "\n",
      "See 'conda init --help' for more information and options.\n",
      "\n",
      "IMPORTANT: You may need to close and restart your shell after running 'conda init'.\n",
      "\n",
      "\n",
      "\n",
      "Note: you may need to restart the kernel to use updated packages.\n"
     ]
    }
   ],
   "source": [
    "conda activate test"
   ]
  },
  {
   "cell_type": "code",
   "execution_count": 9,
   "metadata": {},
   "outputs": [
    {
     "name": "stdout",
     "output_type": "stream",
     "text": [
      "total 44K\n",
      "drwxr-xr-x 13 oat  users 4.0K Oct  8 19:32 \u001b[0m\u001b[01;34m.\u001b[0m/\n",
      "drwxr-xr-x  1 root root  4.0K Oct  8 19:14 \u001b[01;34m..\u001b[0m/\n",
      "-rw-------  1 oat  users  646 Oct  8 19:26 .bash_history\n",
      "-rw-r--r--  1 oat  users  431 Oct  8 19:21 .bashrc\n",
      "drwxr-xr-x  4 oat  users 4.0K Oct  8 19:24 \u001b[01;34m.cache\u001b[0m/\n",
      "drwxrwsr-x  2 oat  users 4.0K Oct  8 19:19 \u001b[01;34m.conda\u001b[0m/\n",
      "-rw-r--r--  1 oat  users   30 Oct  8 19:18 .condarc\n",
      "drwxr-xr-x  2 oat  users 4.0K Oct  8 19:20 \u001b[01;34m.empty\u001b[0m/\n",
      "drwxr-xr-x  4 oat  users  128 Oct  8 19:48 \u001b[01;34menvs\u001b[0m/\n",
      "drwxr-xr-x  5 oat  users 4.0K Oct  8 19:32 \u001b[01;34m.ipython\u001b[0m/\n",
      "drwxr-xr-x  3 oat  users 4.0K Oct  8 19:15 \u001b[01;34m.jupyter\u001b[0m/\n",
      "drwxr-xr-x  3 oat  users 4.0K Oct  8 19:14 \u001b[01;34m.local\u001b[0m/\n",
      "drwxr-xr-x  2 root root    64 Oct  8 19:14 \u001b[01;34mpublish\u001b[0m/\n",
      "drwxr-xr-x  3 oat  users   96 Oct  8 19:27 \u001b[01;34mreadonly\u001b[0m/\n",
      "drwxr-xr-x  4 root root   128 Oct  8 19:15 \u001b[01;34mshare\u001b[0m/\n",
      "drwxr-xr-x  2 root root    64 Oct  8 17:09 \u001b[01;34mwork\u001b[0m/\n"
     ]
    }
   ],
   "source": [
    "ls -alh ~"
   ]
  },
  {
   "cell_type": "code",
   "execution_count": 10,
   "metadata": {},
   "outputs": [],
   "source": [
    "import os"
   ]
  },
  {
   "cell_type": "code",
   "execution_count": 1,
   "metadata": {},
   "outputs": [
    {
     "name": "stdout",
     "output_type": "stream",
     "text": [
      "Collecting package metadata (current_repodata.json): done\n",
      "Solving environment: done\n",
      "\n",
      "# All requested packages already installed.\n",
      "\n",
      "\n",
      "Note: you may need to restart the kernel to use updated packages.\n"
     ]
    }
   ],
   "source": [
    "conda install ipykernel"
   ]
  },
  {
   "cell_type": "code",
   "execution_count": null,
   "metadata": {},
   "outputs": [],
   "source": []
  },
  {
   "cell_type": "code",
   "execution_count": null,
   "metadata": {},
   "outputs": [],
   "source": []
  },
  {
   "cell_type": "markdown",
   "metadata": {},
   "source": [
    "python -m ipykernel install --user --name myenv --display-name \"Test Python (test)\""
   ]
  },
  {
   "cell_type": "code",
   "execution_count": null,
   "metadata": {},
   "outputs": [],
   "source": []
  }
 ],
 "metadata": {
  "kernelspec": {
   "display_name": "Python 3",
   "language": "python",
   "name": "python3"
  },
  "language_info": {
   "codemirror_mode": {
    "name": "ipython",
    "version": 3
   },
   "file_extension": ".py",
   "mimetype": "text/x-python",
   "name": "python",
   "nbconvert_exporter": "python",
   "pygments_lexer": "ipython3",
   "version": "3.8.5"
  }
 },
 "nbformat": 4,
 "nbformat_minor": 4
}
